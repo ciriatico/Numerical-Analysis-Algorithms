{
 "cells": [
  {
   "cell_type": "code",
   "execution_count": 17,
   "id": "a4493d90",
   "metadata": {},
   "outputs": [],
   "source": [
    "def exc_lines_mat(mat, li, lk):\n",
    "    mat[li], mat[lk] = mat[lk], mat[li]\n",
    "    \n",
    "    return mat"
   ]
  },
  {
   "cell_type": "code",
   "execution_count": 18,
   "id": "10d6cb34",
   "metadata": {},
   "outputs": [],
   "source": [
    "def solve_upper_triang_system(mat_A_original, mat_b_original):\n",
    "    mat_A = mat_A_original.copy()\n",
    "    mat_b = mat_b_original.copy()\n",
    "    \n",
    "    mat_x = [0]*len(mat_A)\n",
    "    \n",
    "    for i in range(len(mat_A)-1, -1, -1):\n",
    "        for j in range(i+1, len(mat_A[i])):\n",
    "            mat_b[i] = mat_b[i] - (mat_A[i][j]*mat_x[j])\n",
    "\n",
    "        mat_x[i] = mat_b[i]/mat_A[i][i]\n",
    "        \n",
    "    return mat_x"
   ]
  },
  {
   "cell_type": "code",
   "execution_count": 19,
   "id": "7639264a",
   "metadata": {},
   "outputs": [],
   "source": [
    "def gauss_triang(mat_A_original):\n",
    "    mat_A = mat_A_original.copy()\n",
    "    \n",
    "    n = len(mat_A)\n",
    "    \n",
    "    for k in range(0, n):\n",
    "        for i in range(0, k):\n",
    "            if mat_A[i][i] == 0:\n",
    "                for p in range(i, n):\n",
    "                    if mat_A[p][p] != 0:\n",
    "                        mat_A = trocar_linhas_mat(mat_A, i, p)\n",
    "                        break\n",
    "\n",
    "            mki = mat_A[k][i]/mat_A[i][i]\n",
    "\n",
    "            for j in range(0, len(mat_A[k])):\n",
    "                mat_A[k][j] = mat_A[k][j] - (mki*mat_A[i][j])\n",
    "    \n",
    "    return mat_A"
   ]
  },
  {
   "cell_type": "code",
   "execution_count": 20,
   "id": "5abaeb1b",
   "metadata": {},
   "outputs": [],
   "source": [
    "def gauss_triang_pivot(mat_original):\n",
    "    mat_A = mat_original.copy()\n",
    "    \n",
    "    n = len(mat_A)\n",
    "    \n",
    "    for k in range(0, n):\n",
    "        max_v = mat_A[k][k]\n",
    "        max_i = k\n",
    "        \n",
    "        for u in range(k, n):\n",
    "            if abs(mat_A[u][k]) > max_v:\n",
    "                max_v = mat_A[u][k]\n",
    "                max_i = u\n",
    "        \n",
    "        mat_A = exc_lines_mat(mat_A, k, max_i)\n",
    "        \n",
    "        for i in range(0, k):\n",
    "            if mat_A[i][i] == 0:\n",
    "                for p in range(i, n):\n",
    "                    if mat_A[p][p] != 0:\n",
    "                        mat_A = exc_lines_mat(mat_A, i, p)\n",
    "                        break\n",
    "\n",
    "            mki = mat_A[k][i]/mat_A[i][i]\n",
    "\n",
    "            for j in range(0, len(mat_A[k])):\n",
    "                mat_A[k][j] = mat_A[k][j] - (mki*mat_A[i][j])\n",
    "    \n",
    "    return mat_A"
   ]
  },
  {
   "cell_type": "code",
   "execution_count": 21,
   "id": "9f1d04b6",
   "metadata": {},
   "outputs": [],
   "source": [
    "def gaussian_elimination(mat_A_original):\n",
    "    mat_A = mat_A_original.copy()\n",
    "    \n",
    "    triang_mat_A = gauss_triang(mat_A)\n",
    "    \n",
    "    mat_A = [i[0:-1] for i in triang_mat_A]\n",
    "    mat_b = [i[-1] for i in triang_mat_A]\n",
    "    \n",
    "    mult_geral = 1\n",
    "\n",
    "    for i in range(0, len(triang_mat_A)):\n",
    "        mult_geral *= triang_mat_A[i][i]\n",
    "        \n",
    "    if mult_geral == 0:\n",
    "        print(\"Sistema impossível ou com infinitas soluções.\")\n",
    "        return\n",
    "    \n",
    "    return solve_upper_triang_system(mat_A, mat_b)"
   ]
  },
  {
   "cell_type": "code",
   "execution_count": 22,
   "id": "4020c4da",
   "metadata": {},
   "outputs": [],
   "source": [
    "def gaussian_elimination_pivot(mat_A_original):\n",
    "    mat_A_ap = mat_A_original.copy()\n",
    "    triang_mat_A = gauss_triang_pivot(mat_A_ap)\n",
    "    \n",
    "    mat_A_ap = [i[0:-1] for i in triang_mat_A]\n",
    "    mat_b = [i[-1] for i in triang_mat_A]\n",
    "    \n",
    "    mult_geral = 1\n",
    "\n",
    "    for i in range(0, len(triang_mat_A)):\n",
    "        mult_geral *= triang_mat_A[i][i]\n",
    "        \n",
    "    if mult_geral == 0:\n",
    "        # Isso aqui não está bem implementado no algoritmo\n",
    "        print(\"Sistema impossível ou com infinitas soluções.\")\n",
    "        return\n",
    "    \n",
    "    return solve_upper_triang_system(mat_A_ap, mat_b)"
   ]
  },
  {
   "cell_type": "code",
   "execution_count": 23,
   "id": "c342ce80",
   "metadata": {},
   "outputs": [],
   "source": [
    "ex_a8_6 = [\n",
    "    [2, 2, 1, 1, 7],\n",
    "    [1, -1, 2, -1, 1],\n",
    "    [3, 2, -3, -2, 4],\n",
    "    [4, 3, 2, 1, 12]\n",
    "]"
   ]
  },
  {
   "cell_type": "code",
   "execution_count": 24,
   "id": "dc7233e7",
   "metadata": {},
   "outputs": [
    {
     "data": {
      "text/plain": [
       "[1.0, 2.0, 1.0, -0.0]"
      ]
     },
     "execution_count": 24,
     "metadata": {},
     "output_type": "execute_result"
    }
   ],
   "source": [
    "gaussian_elimination_pivot(ex_a8_6)"
   ]
  },
  {
   "cell_type": "code",
   "execution_count": null,
   "id": "b8287fb9",
   "metadata": {},
   "outputs": [],
   "source": []
  }
 ],
 "metadata": {
  "kernelspec": {
   "display_name": "Python 3",
   "language": "python",
   "name": "python3"
  },
  "language_info": {
   "codemirror_mode": {
    "name": "ipython",
    "version": 3
   },
   "file_extension": ".py",
   "mimetype": "text/x-python",
   "name": "python",
   "nbconvert_exporter": "python",
   "pygments_lexer": "ipython3",
   "version": "3.8.8"
  }
 },
 "nbformat": 4,
 "nbformat_minor": 5
}
