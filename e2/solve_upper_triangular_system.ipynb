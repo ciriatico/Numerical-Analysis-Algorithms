{
 "cells": [
  {
   "cell_type": "code",
   "execution_count": 16,
   "id": "c27854c9",
   "metadata": {},
   "outputs": [],
   "source": [
    "def solve_upper_triang_system(mat_A, mat_b):\n",
    "    mat_x = [0]*len(mat_A)\n",
    "    \n",
    "    for i in range(len(mat_A)-1, -1, -1):\n",
    "        for j in range(i+1, len(mat_A[i])):\n",
    "            mat_b[i] = mat_b[i] - (mat_A[i][j]*mat_x[j])\n",
    "\n",
    "        mat_x[i] = mat_b[i]/mat_A[i][i]\n",
    "        \n",
    "    return mat_x"
   ]
  },
  {
   "cell_type": "code",
   "execution_count": 17,
   "id": "00adb7a2",
   "metadata": {},
   "outputs": [],
   "source": [
    "tA = [[2, -1, 1],\n",
    "    [0, 1, 2],\n",
    "    [0, 0, 1]]\n",
    "\n",
    "tb = [2,\n",
    "    3,\n",
    "    1]"
   ]
  },
  {
   "cell_type": "code",
   "execution_count": 18,
   "id": "f8632514",
   "metadata": {},
   "outputs": [
    {
     "data": {
      "text/plain": [
       "[1.0, 1.0, 1.0]"
      ]
     },
     "execution_count": 18,
     "metadata": {},
     "output_type": "execute_result"
    }
   ],
   "source": [
    "solve_upper_triang_system(tA, tb)"
   ]
  },
  {
   "cell_type": "code",
   "execution_count": null,
   "id": "48075d73",
   "metadata": {},
   "outputs": [],
   "source": []
  },
  {
   "cell_type": "code",
   "execution_count": 19,
   "id": "cb4b81b8",
   "metadata": {},
   "outputs": [],
   "source": [
    "testef = [[1, -1, 2, -1, -8],\n",
    " [0.0, 2.0, -1.0, 1.0, 6.0],\n",
    " [0.0, 0.0, -1.0, -1.0, -4.0],\n",
    " [0.0, 0.0, 0.0, 2.0, 4.0]]"
   ]
  },
  {
   "cell_type": "code",
   "execution_count": 20,
   "id": "4870b266",
   "metadata": {},
   "outputs": [],
   "source": [
    "testeb = [i[-1] for i in testef]"
   ]
  },
  {
   "cell_type": "code",
   "execution_count": 21,
   "id": "fc0929c3",
   "metadata": {},
   "outputs": [],
   "source": [
    "testea = [i[0:-1] for i in testef]"
   ]
  },
  {
   "cell_type": "code",
   "execution_count": 22,
   "id": "8bf51525",
   "metadata": {},
   "outputs": [
    {
     "data": {
      "text/plain": [
       "[-7.0, 3.0, 2.0, 2.0]"
      ]
     },
     "execution_count": 22,
     "metadata": {},
     "output_type": "execute_result"
    }
   ],
   "source": [
    "solve_upper_triang_system(testea, testeb)"
   ]
  },
  {
   "cell_type": "code",
   "execution_count": null,
   "id": "eeee4cd7",
   "metadata": {},
   "outputs": [],
   "source": []
  }
 ],
 "metadata": {
  "kernelspec": {
   "display_name": "Python 3",
   "language": "python",
   "name": "python3"
  },
  "language_info": {
   "codemirror_mode": {
    "name": "ipython",
    "version": 3
   },
   "file_extension": ".py",
   "mimetype": "text/x-python",
   "name": "python",
   "nbconvert_exporter": "python",
   "pygments_lexer": "ipython3",
   "version": "3.8.8"
  }
 },
 "nbformat": 4,
 "nbformat_minor": 5
}
