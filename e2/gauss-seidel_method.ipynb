{
 "cells": [
  {
   "cell_type": "code",
   "execution_count": 2,
   "id": "0a79f693",
   "metadata": {},
   "outputs": [],
   "source": [
    "def gauss_seidel_method(mat_aum, x, e):\n",
    "    mat_A = [lin[0:-1] for lin in mat_aum]\n",
    "    mat_b = [lin[-1] for lin in mat_aum]\n",
    "    \n",
    "    iteracoes = 0\n",
    "    erros = [0]*len(x)\n",
    "    x_geral = []\n",
    "    \n",
    "    x_geral.append(x.copy())\n",
    "        \n",
    "    # Primeira iteração é diferente porque precisa ter a primeira matriz erros ainda\n",
    "    for i in range(0, len(mat_A)):\n",
    "        aii = mat_A[i][i]\n",
    "        bi = mat_b[i]\n",
    "        soma_parenteses = bi\n",
    "\n",
    "        for j in range(0, len(mat_A[i])):\n",
    "            if j != i:\n",
    "                soma_parenteses -= mat_A[i][j]*x[j]\n",
    "\n",
    "        x[i] = (1/aii)*soma_parenteses\n",
    "        \n",
    "    iteracoes += 1\n",
    "    x_geral.append(x.copy())\n",
    "    \n",
    "    for i in range(0, len(x_geral[-1])):\n",
    "        erros[i] = abs(x_geral[-1][i] - x_geral[len(x_geral)-2][i])\n",
    "    \n",
    "    while max(erros) > e:\n",
    "        for i in range(0, len(mat_A)):\n",
    "            aii = mat_A[i][i]\n",
    "            bi = mat_b[i]\n",
    "            soma_parenteses = bi\n",
    "\n",
    "            for j in range(0, len(mat_A[i])):\n",
    "                if j != i:\n",
    "                    soma_parenteses -= mat_A[i][j]*x[j]\n",
    "\n",
    "            x[i] = (1/aii)*soma_parenteses\n",
    "        \n",
    "        x_geral.append(x.copy())\n",
    "            \n",
    "        for i in range(0, len(x_geral[-1])):\n",
    "            erros[i] = abs(x_geral[-1][i] - x_geral[len(x_geral)-2][i])\n",
    "            \n",
    "        iteracoes += 1\n",
    "    \n",
    "    return (iteracoes, x_geral)"
   ]
  },
  {
   "cell_type": "code",
   "execution_count": 3,
   "id": "6f94e6e4",
   "metadata": {},
   "outputs": [],
   "source": [
    "def sassenfeld_criterion(mat_aum):\n",
    "    mat_A = [lin[0:-1] for lin in mat_aum]\n",
    "    beta = []\n",
    "    \n",
    "    for i in range(0, len(mat_A)):\n",
    "        bi = 0\n",
    "\n",
    "        for j in range(0, len(mat_A[i])):\n",
    "            if j != i:\n",
    "                if len(beta) >= (j+1):\n",
    "                    bi += abs(mat_A[i][j])*beta[j]\n",
    "                else:\n",
    "                    bi += abs(mat_A[i][j])\n",
    "\n",
    "        beta.append(bi/abs(mat_A[i][i]))\n",
    "    \n",
    "    if max(beta) < 1:\n",
    "        return (True, beta)\n",
    "    else:\n",
    "        return (False, beta)"
   ]
  },
  {
   "cell_type": "code",
   "execution_count": null,
   "id": "b6a394ef",
   "metadata": {},
   "outputs": [],
   "source": []
  },
  {
   "cell_type": "code",
   "execution_count": 4,
   "id": "5de93528",
   "metadata": {},
   "outputs": [],
   "source": [
    "exemplo_aula = [\n",
    "    [1, 1, 3],\n",
    "    [1, -3, -3]\n",
    "]"
   ]
  },
  {
   "cell_type": "code",
   "execution_count": 5,
   "id": "35c743ce",
   "metadata": {},
   "outputs": [
    {
     "data": {
      "text/plain": [
       "(6,\n",
       " [[0, 0],\n",
       "  [3.0, 2.0],\n",
       "  [1.0, 1.3333333333333333],\n",
       "  [1.6666666666666667, 1.5555555555555556],\n",
       "  [1.4444444444444444, 1.4814814814814814],\n",
       "  [1.5185185185185186, 1.5061728395061729],\n",
       "  [1.4938271604938271, 1.4979423868312758]])"
      ]
     },
     "execution_count": 5,
     "metadata": {},
     "output_type": "execute_result"
    }
   ],
   "source": [
    "gauss_seidel_method(exemplo_aula, [0, 0], 0.03)"
   ]
  },
  {
   "cell_type": "code",
   "execution_count": null,
   "id": "a8a4c747",
   "metadata": {},
   "outputs": [],
   "source": []
  }
 ],
 "metadata": {
  "kernelspec": {
   "display_name": "Python 3",
   "language": "python",
   "name": "python3"
  },
  "language_info": {
   "codemirror_mode": {
    "name": "ipython",
    "version": 3
   },
   "file_extension": ".py",
   "mimetype": "text/x-python",
   "name": "python",
   "nbconvert_exporter": "python",
   "pygments_lexer": "ipython3",
   "version": "3.8.8"
  }
 },
 "nbformat": 4,
 "nbformat_minor": 5
}
