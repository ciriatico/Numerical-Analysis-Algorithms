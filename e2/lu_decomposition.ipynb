{
 "cells": [
  {
   "cell_type": "code",
   "execution_count": 16,
   "id": "3240c404",
   "metadata": {},
   "outputs": [],
   "source": [
    "def solve_lower_triang_system(mat_A, mat_b):   \n",
    "    # Considerando sistema nxn\n",
    "    mat_x = [0]*len(mat_A)\n",
    "    n = len(mat_A)\n",
    "    \n",
    "    for i in range(0, n):\n",
    "        for j in range(0, i):\n",
    "            mat_b[i] -= (mat_A[i][j]*mat_x[j])\n",
    "\n",
    "        mat_x[i] = mat_b[i]/mat_A[i][i]\n",
    "        \n",
    "    return mat_x"
   ]
  },
  {
   "cell_type": "code",
   "execution_count": 17,
   "id": "76ae3ecc",
   "metadata": {},
   "outputs": [],
   "source": [
    "def solve_upper_triang_system(mat_A, mat_b):\n",
    "    # Considerando sistema nxn\n",
    "    mat_x = [0]*len(mat_A)\n",
    "    \n",
    "    for i in range(len(mat_A)-1, -1, -1):\n",
    "        for j in range(i+1, len(mat_A[i])):\n",
    "            mat_b[i] = mat_b[i] - (mat_A[i][j]*mat_x[j])\n",
    "\n",
    "        mat_x[i] = mat_b[i]/mat_A[i][i]\n",
    "        \n",
    "    return mat_x"
   ]
  },
  {
   "cell_type": "code",
   "execution_count": 18,
   "id": "62f6e95e",
   "metadata": {},
   "outputs": [],
   "source": [
    "def trocar_linhas_mat(mat, li, lk):\n",
    "    mat[li], mat[lk] = mat[lk], mat[li]\n",
    "    \n",
    "    return mat"
   ]
  },
  {
   "cell_type": "code",
   "execution_count": 19,
   "id": "6dd99dce",
   "metadata": {},
   "outputs": [],
   "source": [
    "def gauss_triang(mat_A_original):\n",
    "    mat_A = mat_A_original.copy()\n",
    "    mki_geral = []\n",
    "    \n",
    "    n = len(mat_A)\n",
    "    \n",
    "    for k in range(0, n):\n",
    "        for i in range(0, k):\n",
    "            if mat_A[i][i] == 0:\n",
    "                for p in range(i, n):\n",
    "                    if mat_A[p][p] != 0:\n",
    "                        mat_A = trocar_linhas_mat(mat_A, i, p)\n",
    "                        break\n",
    "\n",
    "            mki = mat_A[k][i]/mat_A[i][i]\n",
    "            mki_geral.append(mki)\n",
    "\n",
    "            for j in range(0, len(mat_A[k])):\n",
    "                mat_A[k][j] = mat_A[k][j] - (mki*mat_A[i][j])\n",
    "    \n",
    "    return (mat_A, mki_geral)"
   ]
  },
  {
   "cell_type": "code",
   "execution_count": 20,
   "id": "be1f3e88",
   "metadata": {},
   "outputs": [],
   "source": [
    "def get_l(mki_geral, n):\n",
    "    # Considera matriz n x n\n",
    "    mat_l = []\n",
    "    \n",
    "    for i in range(0, n):\n",
    "        mat_l.append([0]*n)\n",
    "        \n",
    "    for i in range(0, len(mat_l)):\n",
    "        for j in range(0, len(mat_l[i])):\n",
    "            if i == j:\n",
    "                mat_l[i][j] = 1\n",
    "            else:\n",
    "                if i > j:\n",
    "                    mat_l[i][j] = mki_geral[0]\n",
    "                    mki_geral = mki_geral[1:]\n",
    "    \n",
    "    return mat_l"
   ]
  },
  {
   "cell_type": "code",
   "execution_count": 21,
   "id": "c5cce09b",
   "metadata": {},
   "outputs": [],
   "source": [
    "def print_mat(mat, prec):\n",
    "    linhas = []\n",
    "    \n",
    "    if type(mat[0]) == list:\n",
    "        for i in range(0, len(mat)):\n",
    "            linha = \"\"\n",
    "            for j in mat[i]:\n",
    "                linha += \" \" + str(round(j, prec))\n",
    "            linhas.append(linha)\n",
    "\n",
    "    else:\n",
    "        linha = \"\"\n",
    "        for j in mat:\n",
    "            linha += \" \" + str(round(j, prec))\n",
    "        linhas.append(linha)\n",
    "        \n",
    "    for i in linhas:\n",
    "        print(i)"
   ]
  },
  {
   "cell_type": "code",
   "execution_count": 22,
   "id": "f5234c0b",
   "metadata": {},
   "outputs": [],
   "source": [
    "def lu_decomp(mat_aum):\n",
    "    mat_A = [lin[0:-1] for lin in mat_aum]\n",
    "    mat_b = [lin[-1] for lin in mat_aum]\n",
    "    \n",
    "    mat_u, mult = gauss_triang(mat_A)\n",
    "    \n",
    "    mat_l = get_l(mult, len(mat_A))\n",
    "    mat_y = solve_lower_triang_system(mat_l, mat_b)\n",
    "    return solve_upper_triang_system(mat_u, mat_y)"
   ]
  },
  {
   "cell_type": "code",
   "execution_count": null,
   "id": "6c75477a",
   "metadata": {},
   "outputs": [],
   "source": []
  },
  {
   "cell_type": "code",
   "execution_count": 23,
   "id": "3710facf",
   "metadata": {},
   "outputs": [],
   "source": [
    "def get_identity(n):\n",
    "    mat_i = []\n",
    "    \n",
    "    for i in range(0, n):\n",
    "        mat_i.append([0]*n)\n",
    "        \n",
    "    for i in range(0, n):\n",
    "        mat_i[i][i] = 1\n",
    "    \n",
    "    return mat_i"
   ]
  },
  {
   "cell_type": "code",
   "execution_count": 24,
   "id": "3f80d6a8",
   "metadata": {},
   "outputs": [],
   "source": [
    "def transpose_mat(mat):\n",
    "    # Considerando matriz nxn\n",
    "    mat_t = []\n",
    "    \n",
    "    for i in range(0, len(mat)):\n",
    "        lin = []\n",
    "        \n",
    "        for j in range(0, len(mat)):\n",
    "            lin.append(mat[j][i])\n",
    "        \n",
    "        mat_t.append(lin)\n",
    "        \n",
    "    return mat_t"
   ]
  },
  {
   "cell_type": "code",
   "execution_count": 25,
   "id": "bedb02ae",
   "metadata": {},
   "outputs": [],
   "source": [
    "def get_inverse(mat_aum):\n",
    "    # Observar que considera a matriz aumentada, com b sendo a última coluna\n",
    "    # Se não houver b, preencha a última linha com qualquer valor (não faço logo aqui por problema de escopo)\n",
    "    mat_A = [lin[0:-1] for lin in mat_aum]\n",
    "    \n",
    "    mat_u, mult = gauss_triang(mat_A)\n",
    "    mat_l = get_l(mult, len(mat_A))\n",
    "    \n",
    "    # A partir daqui, muda do processo de fatorização LU\n",
    "    \n",
    "    mat_i = get_identity(len(mat_aum))\n",
    "    \n",
    "    y_geral = []\n",
    "    d_geral = []\n",
    "\n",
    "    for i in range(0, len(mat_i)):\n",
    "        ii = [lin[i] for lin in mat_i]\n",
    "\n",
    "        yi = solve_lower_triang_system(mat_l, ii)\n",
    "        y_geral.append(yi.copy())\n",
    "        di = solve_upper_triang_system(mat_u, yi)\n",
    "        d_geral.append(di)\n",
    "        \n",
    "    mat_inv = transpose_mat(d_geral)\n",
    "\n",
    "    return mult, mat_u, mat_l, mat_inv, y_geral"
   ]
  },
  {
   "cell_type": "code",
   "execution_count": null,
   "id": "4ae419dd",
   "metadata": {},
   "outputs": [],
   "source": []
  },
  {
   "cell_type": "code",
   "execution_count": 26,
   "id": "34ad195f",
   "metadata": {},
   "outputs": [],
   "source": [
    "ex_aula_13 = [\n",
    "    [1, 2, -1, 2],\n",
    "    [2, 3, -2, 3],\n",
    "    [1, -2, 1, 0]\n",
    "]"
   ]
  },
  {
   "cell_type": "code",
   "execution_count": 27,
   "id": "d0ef97a4",
   "metadata": {},
   "outputs": [],
   "source": [
    "fat_ex_aula_13 = lu_decomp(ex_aula_13)"
   ]
  },
  {
   "cell_type": "code",
   "execution_count": 28,
   "id": "6bfe5831",
   "metadata": {},
   "outputs": [
    {
     "name": "stdout",
     "output_type": "stream",
     "text": [
      " 1.0 1.0 1.0\n"
     ]
    }
   ],
   "source": [
    "print_mat(fat_ex_aula_13, 1)"
   ]
  },
  {
   "cell_type": "code",
   "execution_count": null,
   "id": "4ada5b5e",
   "metadata": {},
   "outputs": [],
   "source": []
  }
 ],
 "metadata": {
  "kernelspec": {
   "display_name": "Python 3",
   "language": "python",
   "name": "python3"
  },
  "language_info": {
   "codemirror_mode": {
    "name": "ipython",
    "version": 3
   },
   "file_extension": ".py",
   "mimetype": "text/x-python",
   "name": "python",
   "nbconvert_exporter": "python",
   "pygments_lexer": "ipython3",
   "version": "3.8.8"
  }
 },
 "nbformat": 4,
 "nbformat_minor": 5
}
