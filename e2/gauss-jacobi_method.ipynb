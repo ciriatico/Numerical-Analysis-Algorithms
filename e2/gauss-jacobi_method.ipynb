{
 "cells": [
  {
   "cell_type": "code",
   "execution_count": 1,
   "id": "b11e45b6",
   "metadata": {},
   "outputs": [],
   "source": [
    "def gauss_jacobi_method(mat_aum, x, e):\n",
    "    mat_A = [lin[0:-1] for lin in mat_aum]\n",
    "    mat_b = [lin[-1] for lin in mat_aum]\n",
    "    \n",
    "    iteracoes = 0\n",
    "    erros = [0]*len(x)\n",
    "    x_geral = []\n",
    "    xi = [0]*len(x)\n",
    "    \n",
    "    x_geral.append(x.copy())\n",
    "    \n",
    "    # Primeira iteração é diferente porque precisa ter a primeira matriz erros ainda\n",
    "    for i in range(0, len(mat_A)):\n",
    "        aii = mat_A[i][i]\n",
    "        bi = mat_b[i]\n",
    "        soma_parenteses = bi\n",
    "\n",
    "        for j in range(0, len(mat_A[i])):\n",
    "            if j != i:\n",
    "                soma_parenteses -= mat_A[i][j]*x[j]\n",
    "\n",
    "        xi[i] = (1/aii)*soma_parenteses\n",
    "        \n",
    "    iteracoes += 1\n",
    "    \n",
    "    for i in range(0, len(xi)):\n",
    "        erros[i] = abs(xi[i] - x[i])\n",
    "    \n",
    "    while max(erros) > e:\n",
    "        x_geral.append(xi.copy())\n",
    "        x = xi.copy()\n",
    "        xi = [0]*len(x)\n",
    "\n",
    "        for i in range(0, len(mat_A)):\n",
    "            aii = mat_A[i][i]\n",
    "            bi = mat_b[i]\n",
    "            soma_parenteses = bi\n",
    "\n",
    "            for j in range(0, len(mat_A[i])):\n",
    "                if j != i:\n",
    "                    soma_parenteses -= mat_A[i][j]*x[j]\n",
    "\n",
    "            xi[i] = (1/aii)*soma_parenteses\n",
    "\n",
    "        for i in range(0, len(xi)):\n",
    "            erros[i] = abs(xi[i] - x[i])\n",
    "            \n",
    "        iteracoes += 1\n",
    "    \n",
    "    return (iteracoes, x_geral)"
   ]
  },
  {
   "cell_type": "code",
   "execution_count": 2,
   "id": "d4027abf",
   "metadata": {},
   "outputs": [],
   "source": [
    "def line_criterion(mat_aum):\n",
    "    mat_A = [lin[0:-1] for lin in mat_aum]\n",
    "    alfa = [0]*len(mat_A)\n",
    "    \n",
    "    for i in range(0, len(mat_A)):\n",
    "        ai = 0\n",
    "\n",
    "        for j in range(0, len(mat_A[i])):\n",
    "            if j != i:\n",
    "                ai += mat_A[i][j]\n",
    "\n",
    "        alfa[i] = abs(ai)/abs(mat_A[i][i])\n",
    "    \n",
    "    if max(alfa) < 1:\n",
    "        return (True, alfa)\n",
    "    else:\n",
    "        return (False, alfa)"
   ]
  },
  {
   "cell_type": "code",
   "execution_count": 3,
   "id": "46f06c05",
   "metadata": {},
   "outputs": [],
   "source": [
    "exemplo_aula = [\n",
    "    [4, 0.24, -0.08, 8],\n",
    "    [0.09, 3, -0.15, 9],\n",
    "    [0.04, -0.08, 4, 20]\n",
    "]"
   ]
  },
  {
   "cell_type": "code",
   "execution_count": 4,
   "id": "f675b4d6",
   "metadata": {},
   "outputs": [
    {
     "data": {
      "text/plain": [
       "(3, [[0, 0, 0], [2.0, 3.0, 5.0], [1.9200000000000002, 3.19, 5.04]])"
      ]
     },
     "execution_count": 4,
     "metadata": {},
     "output_type": "execute_result"
    }
   ],
   "source": [
    "gauss_jacobi_method(exemplo_aula, [0, 0, 0], 0.03)"
   ]
  },
  {
   "cell_type": "code",
   "execution_count": null,
   "id": "77e1fe26",
   "metadata": {},
   "outputs": [],
   "source": []
  }
 ],
 "metadata": {
  "kernelspec": {
   "display_name": "Python 3",
   "language": "python",
   "name": "python3"
  },
  "language_info": {
   "codemirror_mode": {
    "name": "ipython",
    "version": 3
   },
   "file_extension": ".py",
   "mimetype": "text/x-python",
   "name": "python",
   "nbconvert_exporter": "python",
   "pygments_lexer": "ipython3",
   "version": "3.8.8"
  }
 },
 "nbformat": 4,
 "nbformat_minor": 5
}
