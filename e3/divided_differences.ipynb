{
 "cells": [
  {
   "cell_type": "code",
   "execution_count": null,
   "id": "0deba1b1",
   "metadata": {},
   "outputs": [],
   "source": [
    "import math"
   ]
  },
  {
   "cell_type": "code",
   "execution_count": 1,
   "id": "3c345187",
   "metadata": {},
   "outputs": [],
   "source": [
    "def divided_diff(x0, x1, y0, y1):\n",
    "    return (y1 - y0)/(x1 - x0)"
   ]
  },
  {
   "cell_type": "code",
   "execution_count": 2,
   "id": "00cbe5f2",
   "metadata": {},
   "outputs": [],
   "source": [
    "def get_diff_table(x):\n",
    "    d_div_diffs = {\"d\" + str(k): [] for k in range(0, len(x))}\n",
    "    \n",
    "    for d in range(0, len(x)):\n",
    "        for i in range(0, len(x)):\n",
    "            for j in range(0, len(x)):\n",
    "                if (j - i) == d:\n",
    "                    d_div_diffs[\"d\" + str(d)].append({\"first_x\": i, \"last_x\": j})\n",
    "    \n",
    "    return d_div_diffs"
   ]
  },
  {
   "cell_type": "code",
   "execution_count": 3,
   "id": "1eb80ecd",
   "metadata": {},
   "outputs": [],
   "source": [
    "def fill_diff_table(d_div_diffs, x, y):\n",
    "    for d in range(0, len(d_div_diffs.keys())):\n",
    "        key = \"d\" + str(d)\n",
    "        key_ant = \"d\" + str(d-1)\n",
    "\n",
    "        if d == 0:\n",
    "            for i in range(0, len(d_div_diffs[key])):\n",
    "                d_div_diffs[key][i][\"dif_value\"] = y[i]\n",
    "\n",
    "        if d != 0:\n",
    "            for i in range(0, len(d_div_diffs[key])):\n",
    "                first_term = d_div_diffs[key][i][\"first_x\"]\n",
    "                last_term = d_div_diffs[key][i][\"last_x\"]\n",
    "\n",
    "                for j in range(0, len(d_div_diffs[key_ant])):\n",
    "                    if d_div_diffs[key_ant][j][\"first_x\"] == first_term:\n",
    "                        first_dif = d_div_diffs[key_ant][j][\"dif_value\"]\n",
    "\n",
    "                    if d_div_diffs[key_ant][j][\"last_x\"] == last_term:\n",
    "                        last_dif = d_div_diffs[key_ant][j][\"dif_value\"]\n",
    "\n",
    "                # Observe que first_x e last_x dizem respeito à posição na array x, não ao valor desse x\n",
    "                d_div_diffs[key][i][\"dif_value\"] = divided_diff(x[first_term], x[last_term], first_dif, last_dif)\n",
    "    \n",
    "    return d_div_diffs"
   ]
  },
  {
   "cell_type": "code",
   "execution_count": 4,
   "id": "7e6559a2",
   "metadata": {},
   "outputs": [],
   "source": [
    "def get_all_divided_diffs(x, y):\n",
    "    d_div_diffs = get_diff_table(x)\n",
    "    \n",
    "    return fill_diff_table(d_div_diffs, x, y)"
   ]
  },
  {
   "cell_type": "code",
   "execution_count": null,
   "id": "c77463fa",
   "metadata": {},
   "outputs": [],
   "source": []
  },
  {
   "cell_type": "code",
   "execution_count": 13,
   "id": "695d5b4f",
   "metadata": {},
   "outputs": [],
   "source": [
    "x = [1, 2, 3, 4]\n",
    "y = [1, math.sqrt(2), math.sqrt(3), 2]"
   ]
  },
  {
   "cell_type": "code",
   "execution_count": 14,
   "id": "3c1d741a",
   "metadata": {},
   "outputs": [
    {
     "data": {
      "text/plain": [
       "{'d0': [{'first_x': 0, 'last_x': 0, 'dif_value': 1},\n",
       "  {'first_x': 1, 'last_x': 1, 'dif_value': 1.4142135623730951},\n",
       "  {'first_x': 2, 'last_x': 2, 'dif_value': 1.7320508075688772},\n",
       "  {'first_x': 3, 'last_x': 3, 'dif_value': 2}],\n",
       " 'd1': [{'first_x': 0, 'last_x': 1, 'dif_value': 0.41421356237309515},\n",
       "  {'first_x': 1, 'last_x': 2, 'dif_value': 0.31783724519578205},\n",
       "  {'first_x': 2, 'last_x': 3, 'dif_value': 0.2679491924311228}],\n",
       " 'd2': [{'first_x': 0, 'last_x': 2, 'dif_value': -0.04818815858865655},\n",
       "  {'first_x': 1, 'last_x': 3, 'dif_value': -0.02494402638232962}],\n",
       " 'd3': [{'first_x': 0, 'last_x': 3, 'dif_value': 0.007748044068775643}]}"
      ]
     },
     "execution_count": 14,
     "metadata": {},
     "output_type": "execute_result"
    }
   ],
   "source": [
    "get_all_divided_diffs(x, y)"
   ]
  },
  {
   "cell_type": "code",
   "execution_count": null,
   "id": "309d2731",
   "metadata": {},
   "outputs": [],
   "source": []
  },
  {
   "cell_type": "code",
   "execution_count": 5,
   "id": "aada7707",
   "metadata": {},
   "outputs": [],
   "source": [
    "x = [-1, 0, 1, 2]\n",
    "y = [1, 1, 0, -1]"
   ]
  },
  {
   "cell_type": "code",
   "execution_count": 6,
   "id": "a0f60e95",
   "metadata": {},
   "outputs": [
    {
     "data": {
      "text/plain": [
       "{'d0': [{'first_x': 0, 'last_x': 0, 'dif_value': 1},\n",
       "  {'first_x': 1, 'last_x': 1, 'dif_value': 1},\n",
       "  {'first_x': 2, 'last_x': 2, 'dif_value': 0},\n",
       "  {'first_x': 3, 'last_x': 3, 'dif_value': -1}],\n",
       " 'd1': [{'first_x': 0, 'last_x': 1, 'dif_value': 0.0},\n",
       "  {'first_x': 1, 'last_x': 2, 'dif_value': -1.0},\n",
       "  {'first_x': 2, 'last_x': 3, 'dif_value': -1.0}],\n",
       " 'd2': [{'first_x': 0, 'last_x': 2, 'dif_value': -0.5},\n",
       "  {'first_x': 1, 'last_x': 3, 'dif_value': 0.0}],\n",
       " 'd3': [{'first_x': 0, 'last_x': 3, 'dif_value': 0.16666666666666666}]}"
      ]
     },
     "execution_count": 6,
     "metadata": {},
     "output_type": "execute_result"
    }
   ],
   "source": [
    "get_all_divided_diffs(x, y)"
   ]
  },
  {
   "cell_type": "code",
   "execution_count": null,
   "id": "d9ceff54",
   "metadata": {},
   "outputs": [],
   "source": []
  },
  {
   "cell_type": "code",
   "execution_count": 13,
   "id": "2b70ebff",
   "metadata": {},
   "outputs": [],
   "source": [
    "x2 = [-1, 0, 2]\n",
    "y2 = [4, 1, -1]"
   ]
  },
  {
   "cell_type": "code",
   "execution_count": 14,
   "id": "ef6c6a54",
   "metadata": {},
   "outputs": [
    {
     "data": {
      "text/plain": [
       "{'d0': [{'first_x': 0, 'last_x': 0, 'dif_value': 4},\n",
       "  {'first_x': 1, 'last_x': 1, 'dif_value': 1},\n",
       "  {'first_x': 2, 'last_x': 2, 'dif_value': -1}],\n",
       " 'd1': [{'first_x': 0, 'last_x': 1, 'dif_value': -3.0},\n",
       "  {'first_x': 1, 'last_x': 2, 'dif_value': -1.0}],\n",
       " 'd2': [{'first_x': 0, 'last_x': 2, 'dif_value': 0.6666666666666666}]}"
      ]
     },
     "execution_count": 14,
     "metadata": {},
     "output_type": "execute_result"
    }
   ],
   "source": [
    "get_all_divided_diffs(x2, y2)"
   ]
  },
  {
   "cell_type": "code",
   "execution_count": null,
   "id": "292d7a54",
   "metadata": {},
   "outputs": [],
   "source": []
  },
  {
   "cell_type": "code",
   "execution_count": 25,
   "id": "d4e8d649",
   "metadata": {},
   "outputs": [],
   "source": [
    "x3 = [0.2, 0.34, 0.4, 0.52, 0.6, 0.72]\n",
    "y3 = [0.16, 0.22, 0.27, 0.29, 0.32, 0.37]"
   ]
  },
  {
   "cell_type": "code",
   "execution_count": 31,
   "id": "50da7fbd",
   "metadata": {},
   "outputs": [],
   "source": [
    "x3 = [0.2, 0.34, 0.4, 0.52, 0.6]\n",
    "y3 = [0.16, 0.22, 0.27, 0.29, 0.32]"
   ]
  },
  {
   "cell_type": "code",
   "execution_count": 32,
   "id": "44d41ab6",
   "metadata": {},
   "outputs": [
    {
     "data": {
      "text/plain": [
       "{'d0': [{'first_x': 0, 'last_x': 0, 'dif_value': 0.16},\n",
       "  {'first_x': 1, 'last_x': 1, 'dif_value': 0.22},\n",
       "  {'first_x': 2, 'last_x': 2, 'dif_value': 0.27},\n",
       "  {'first_x': 3, 'last_x': 3, 'dif_value': 0.29},\n",
       "  {'first_x': 4, 'last_x': 4, 'dif_value': 0.32}],\n",
       " 'd1': [{'first_x': 0, 'last_x': 1, 'dif_value': 0.4285714285714285},\n",
       "  {'first_x': 1, 'last_x': 2, 'dif_value': 0.8333333333333336},\n",
       "  {'first_x': 2, 'last_x': 3, 'dif_value': 0.16666666666666635},\n",
       "  {'first_x': 3, 'last_x': 4, 'dif_value': 0.3750000000000005}],\n",
       " 'd2': [{'first_x': 0, 'last_x': 2, 'dif_value': 2.0238095238095255},\n",
       "  {'first_x': 1, 'last_x': 3, 'dif_value': -3.703703703703707},\n",
       "  {'first_x': 2, 'last_x': 4, 'dif_value': 1.041666666666671}],\n",
       " 'd3': [{'first_x': 0, 'last_x': 3, 'dif_value': -17.89847883597885},\n",
       "  {'first_x': 1, 'last_x': 4, 'dif_value': 18.25142450142453}],\n",
       " 'd4': [{'first_x': 0, 'last_x': 4, 'dif_value': 90.37475834350846}]}"
      ]
     },
     "execution_count": 32,
     "metadata": {},
     "output_type": "execute_result"
    }
   ],
   "source": [
    "get_all_divided_diffs(x3, y3)"
   ]
  },
  {
   "cell_type": "code",
   "execution_count": null,
   "id": "4a9fbc50",
   "metadata": {},
   "outputs": [],
   "source": []
  },
  {
   "cell_type": "code",
   "execution_count": 27,
   "id": "0618df33",
   "metadata": {},
   "outputs": [],
   "source": [
    "x4 = [2.8, 3.0, 3.2, 3.4, 3.6, 3.8]\n",
    "y4 = [16.44, 20.08, 24.53, 29.96, 36.59, 44.70]"
   ]
  },
  {
   "cell_type": "code",
   "execution_count": 28,
   "id": "34606504",
   "metadata": {},
   "outputs": [
    {
     "data": {
      "text/plain": [
       "{'d0': [{'first_x': 0, 'last_x': 0, 'dif_value': 16.44},\n",
       "  {'first_x': 1, 'last_x': 1, 'dif_value': 20.08},\n",
       "  {'first_x': 2, 'last_x': 2, 'dif_value': 24.53},\n",
       "  {'first_x': 3, 'last_x': 3, 'dif_value': 29.96},\n",
       "  {'first_x': 4, 'last_x': 4, 'dif_value': 36.59},\n",
       "  {'first_x': 5, 'last_x': 5, 'dif_value': 44.7}],\n",
       " 'd1': [{'first_x': 0, 'last_x': 1, 'dif_value': 18.199999999999967},\n",
       "  {'first_x': 1, 'last_x': 2, 'dif_value': 22.249999999999993},\n",
       "  {'first_x': 2, 'last_x': 3, 'dif_value': 27.150000000000034},\n",
       "  {'first_x': 3, 'last_x': 4, 'dif_value': 33.149999999999984},\n",
       "  {'first_x': 4, 'last_x': 5, 'dif_value': 40.550000000000054}],\n",
       " 'd2': [{'first_x': 0, 'last_x': 2, 'dif_value': 10.125000000000055},\n",
       "  {'first_x': 1, 'last_x': 3, 'dif_value': 12.250000000000107},\n",
       "  {'first_x': 2, 'last_x': 4, 'dif_value': 14.99999999999988},\n",
       "  {'first_x': 3, 'last_x': 5, 'dif_value': 18.500000000000178}],\n",
       " 'd3': [{'first_x': 0, 'last_x': 3, 'dif_value': 3.541666666666752},\n",
       "  {'first_x': 1, 'last_x': 4, 'dif_value': 4.583333333332954},\n",
       "  {'first_x': 2, 'last_x': 5, 'dif_value': 5.833333333333834}],\n",
       " 'd4': [{'first_x': 0, 'last_x': 4, 'dif_value': 1.3020833333327522},\n",
       "  {'first_x': 1, 'last_x': 5, 'dif_value': 1.5625000000011007}],\n",
       " 'd5': [{'first_x': 0, 'last_x': 5, 'dif_value': 0.2604166666683485}]}"
      ]
     },
     "execution_count": 28,
     "metadata": {},
     "output_type": "execute_result"
    }
   ],
   "source": [
    "get_all_divided_diffs(x4, y4)"
   ]
  },
  {
   "cell_type": "code",
   "execution_count": null,
   "id": "4c25be7f",
   "metadata": {},
   "outputs": [],
   "source": []
  }
 ],
 "metadata": {
  "kernelspec": {
   "display_name": "Python 3",
   "language": "python",
   "name": "python3"
  },
  "language_info": {
   "codemirror_mode": {
    "name": "ipython",
    "version": 3
   },
   "file_extension": ".py",
   "mimetype": "text/x-python",
   "name": "python",
   "nbconvert_exporter": "python",
   "pygments_lexer": "ipython3",
   "version": "3.8.8"
  }
 },
 "nbformat": 4,
 "nbformat_minor": 5
}
