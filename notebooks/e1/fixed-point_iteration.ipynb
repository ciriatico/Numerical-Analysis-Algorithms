{
 "cells": [
  {
   "cell_type": "code",
   "execution_count": 24,
   "id": "34f0b515",
   "metadata": {},
   "outputs": [],
   "source": [
    "import math\n",
    "import pandas as pd\n",
    "import numpy as np"
   ]
  },
  {
   "cell_type": "code",
   "execution_count": 25,
   "id": "6b02b88a",
   "metadata": {},
   "outputs": [],
   "source": [
    "def fixed_point_iteration(x0, e1, e2, f_x, fi_x):\n",
    "    # O algoritmo do MPF geral para o Método de Newton só muda na escolha do fi de x\n",
    "    # Logo, é possível usar esse código tanto para o MPF como para o Método de Newton (o fi não é calculado pelo programa)\n",
    "    \n",
    "    df_method = {\n",
    "        \"i\": [],\n",
    "        \"x0\": [],\n",
    "        \"x1\": [],\n",
    "        \"f(x0)\": [],\n",
    "        \"f(x1)\": [],\n",
    "        \"|x1 - x0|\": []\n",
    "    }\n",
    "    \n",
    "    x1 = fi_x(x0)\n",
    "    fx1 = f_x(x1)\n",
    "    i = 1\n",
    "    \n",
    "    try:\n",
    "        while True:\n",
    "            x1 = fi_x(x0)\n",
    "            fx1 = f_x(x1)\n",
    "\n",
    "            df_method[\"i\"].append(i)\n",
    "            df_method[\"x0\"].append(x0)\n",
    "            df_method[\"x1\"].append(x1)\n",
    "            df_method[\"f(x0)\"].append(\"{:.10f}\".format(float(f_x(x0))))\n",
    "            df_method[\"f(x1)\"].append(\"{:.10f}\".format(float(fx1)))\n",
    "            df_method[\"|x1 - x0|\"].append(\"{:.5}\".format(float(abs(x1-x0))))\n",
    "            \n",
    "            if (abs(fx1) <= e1) or (abs(x1 - x0) <= e2):\n",
    "                break\n",
    "                \n",
    "            x0 = x1\n",
    "            \n",
    "            i += 1\n",
    "    except:\n",
    "        df_method[\"i\"].append(i)\n",
    "        df_method[\"x0\"].append(x0)\n",
    "        df_method[\"x1\"].append(\"erro\")\n",
    "        df_method[\"f(x0)\"].append(\"erro\")\n",
    "        df_method[\"f(x1)\"].append(\"erro\")\n",
    "        df_method[\"|x1 - x0|\"].append(\"erro\")\n",
    "        \n",
    "    print(df_method)\n",
    "    \n",
    "    df_method = pd.DataFrame(df_method)\n",
    "    df_method.index = np.arange(1, len(df_method) + 1)\n",
    "    df_method = df_method.drop(columns=[\"i\"])\n",
    "    \n",
    "    return df_method"
   ]
  },
  {
   "cell_type": "code",
   "execution_count": null,
   "id": "33ae6af7",
   "metadata": {},
   "outputs": [],
   "source": []
  },
  {
   "cell_type": "code",
   "execution_count": 26,
   "id": "bde62ce3",
   "metadata": {},
   "outputs": [],
   "source": [
    "def fun_exemplo(valor):\n",
    "    return math.tan(valor) - math.exp(valor)\n",
    "\n",
    "def fun_exemplo_fi(valor):\n",
    "    return valor - ((math.tan(valor) - math.exp(valor))/((1/(math.cos(valor)**2)) - (math.exp(valor))))"
   ]
  },
  {
   "cell_type": "code",
   "execution_count": 27,
   "id": "a54cfad8",
   "metadata": {},
   "outputs": [],
   "source": [
    "def fun_ex_1a(valor):\n",
    "    return (valor/2) - math.tan(valor)\n",
    "\n",
    "def fun_ex_1a_fi(valor):\n",
    "    return valor - (((valor/2) - math.tan(valor))/((1/2) - (1/(math.cos(valor)**2))))"
   ]
  },
  {
   "cell_type": "code",
   "execution_count": 28,
   "id": "0f65e458",
   "metadata": {},
   "outputs": [],
   "source": [
    "def fun_ex_2b(valor):\n",
    "    return (2*math.cos(valor) - (math.exp(valor)/2))\n",
    "\n",
    "def fun_ex_2b_fi(valor):\n",
    "    return valor - (fun_ex_2a(valor)/(-2*math.sin(valor) - (math.exp(valor)/2)))"
   ]
  },
  {
   "cell_type": "code",
   "execution_count": 29,
   "id": "0168da93",
   "metadata": {},
   "outputs": [],
   "source": [
    "def fun_ex_2c(valor):\n",
    "    return (valor**5) - 6\n",
    "\n",
    "def fun_ex_2c_fi(valor):\n",
    "    return valor - (((valor**5) - 6)/(5*(valor**4)))"
   ]
  },
  {
   "cell_type": "code",
   "execution_count": 30,
   "id": "778ee909",
   "metadata": {},
   "outputs": [],
   "source": [
    "def fun_ex_3(valor):\n",
    "    return ((valor**3) - (2*(valor**2)) - (3*valor) + 10)\n",
    "\n",
    "def fun_ex_3_fi(valor):\n",
    "    return valor - (fun_ex_3(valor)/(3*(valor**2) - (6*valor) - 3))"
   ]
  },
  {
   "cell_type": "code",
   "execution_count": 31,
   "id": "6daac889",
   "metadata": {},
   "outputs": [],
   "source": [
    "def fun_ex_5a(valor):\n",
    "    return (math.exp(valor)) - 4*(valor**2)\n",
    "\n",
    "def fun_ex_5a_fi(valor):\n",
    "    return (1/2)*(math.exp(valor/2))"
   ]
  },
  {
   "cell_type": "code",
   "execution_count": 32,
   "id": "3a735da4",
   "metadata": {},
   "outputs": [],
   "source": [
    "def fun_ex_5a(valor):\n",
    "    return (math.exp(valor)) - 4*(valor**2)\n",
    "\n",
    "def fun_ex_5a_fi(valor):\n",
    "    return (1/2)*(math.exp(valor/2))"
   ]
  },
  {
   "cell_type": "code",
   "execution_count": 33,
   "id": "e28603fe",
   "metadata": {},
   "outputs": [],
   "source": [
    "def fun_ex_5b(valor):\n",
    "    return (math.exp(valor)) - 4*(valor**2)\n",
    "\n",
    "def fun_ex_5b_fi(valor):\n",
    "    return valor - ((math.exp(valor) - (4*(valor**2)))/(math.exp(valor) - (8*valor)))"
   ]
  },
  {
   "cell_type": "code",
   "execution_count": 34,
   "id": "355115d0",
   "metadata": {},
   "outputs": [],
   "source": [
    "def fun_ex_6a(valor):\n",
    "    return math.sin(valor)\n",
    "\n",
    "def fun_ex_6a_fi(valor):\n",
    "    return (valor - math.tan(valor))"
   ]
  },
  {
   "cell_type": "code",
   "execution_count": 35,
   "id": "fcfface2",
   "metadata": {},
   "outputs": [],
   "source": [
    "def fun_ex_6b(valor):\n",
    "    return math.cos(valor) + 1\n",
    "\n",
    "def fun_ex_6b_fi(valor):\n",
    "    return (valor + ((math.cos(valor) + 1)/math.sin(valor)))"
   ]
  },
  {
   "cell_type": "code",
   "execution_count": 36,
   "id": "32a1a4c0",
   "metadata": {},
   "outputs": [],
   "source": [
    "def fun_ex_7(valor):\n",
    "    return valor + math.log(valor)\n",
    "\n",
    "def fun_ex_7_fi(valor):\n",
    "    return (valor - ((valor + math.log(valor))/(1 + 1/valor)))"
   ]
  },
  {
   "cell_type": "code",
   "execution_count": 37,
   "id": "a8c81785",
   "metadata": {},
   "outputs": [],
   "source": [
    "def fun_ex_8b(valor):\n",
    "    return valor - (valor*math.log(valor))\n",
    "\n",
    "def fun_ex_8b_fi(valor):\n",
    "    return valor/(math.log(valor))"
   ]
  },
  {
   "cell_type": "code",
   "execution_count": 38,
   "id": "a7b03e63",
   "metadata": {},
   "outputs": [],
   "source": [
    "def fun_ex_8c(valor):\n",
    "    return valor - (valor*math.log(valor))\n",
    "\n",
    "def fun_ex_8c_fi(valor):\n",
    "    return valor/math.log(valor)"
   ]
  },
  {
   "cell_type": "code",
   "execution_count": 39,
   "id": "79694bb8",
   "metadata": {},
   "outputs": [],
   "source": [
    "def fun_prova_1(valor):\n",
    "    return (valor**5) + (valor**4) - 3\n",
    "\n",
    "def fun_prova_1_der(valor):\n",
    "    return (5*(valor**4)) + (4*(valor**3))\n",
    "\n",
    "def fun_prova_1_fi(valor):\n",
    "    return (valor - (fun_prova_1(valor)/fun_prova_1_der(valor)))"
   ]
  },
  {
   "cell_type": "code",
   "execution_count": 40,
   "id": "39206f17",
   "metadata": {},
   "outputs": [],
   "source": [
    "def fun_prova_4(valor):\n",
    "    return (valor**3) - 2\n",
    "\n",
    "def fun_prova_4_der(valor):\n",
    "    return 3*(valor**2)\n",
    "\n",
    "def fun_prova_4_fi(valor):\n",
    "    return valor - (fun_prova_4(valor)/fun_prova_4_der(valor))"
   ]
  },
  {
   "cell_type": "code",
   "execution_count": 41,
   "id": "d3a338b6",
   "metadata": {},
   "outputs": [],
   "source": [
    "def fun_prova_5(valor):\n",
    "    return (valor**3) - (valor**2) - (4*valor) + 5\n",
    "\n",
    "def fun_prova_5_fi(valor):\n",
    "    return (valor**3) - (valor**2) - (5*valor) + 5"
   ]
  },
  {
   "cell_type": "code",
   "execution_count": null,
   "id": "480896f2",
   "metadata": {},
   "outputs": [],
   "source": []
  },
  {
   "cell_type": "code",
   "execution_count": 42,
   "id": "bc5e3876",
   "metadata": {},
   "outputs": [
    {
     "name": "stdout",
     "output_type": "stream",
     "text": [
      "{'i': [1, 2, 3, 4, 5, 6, 7], 'x0': [1.11111, -0.4183774348393694, 6.843614844744535, 244.4680018580887, 14549551.361273259, 3.0799862382759767e+21, 2.921772035409359e+64], 'x1': [-0.4183774348393694, 6.843614844744535, 244.4680018580887, 14549551.361273259, 3.0799862382759767e+21, 2.921772035409359e+64, 'erro'], 'f(x0)': ['0.6927325652', '6.4252374099', '251.3116167028', '14549795.8292751182', '3079986238275991371776.0000000000', '29217720354093589580581089596687768355154426288202038425505759232.0000000000', 'erro'], 'f(x1)': ['6.4252374099', '251.3116167028', '14549795.8292751182', '3079986238275991371776.0000000000', '29217720354093589580581089596687768355154426288202038425505759232.0000000000', '24942442761066610598576274422845914632940248602539723409206878911007725072114372284423828340631006216739924750908773700938480260880120493197143262060039009061580906612148456358746329067487756288.0000000000', 'erro'], '|x1 - x0|': ['1.5295', '7.262', '237.62', '1.4549e+07', '3.08e+21', '2.9218e+64', 'erro']}\n"
     ]
    },
    {
     "data": {
      "text/html": [
       "<div>\n",
       "<style scoped>\n",
       "    .dataframe tbody tr th:only-of-type {\n",
       "        vertical-align: middle;\n",
       "    }\n",
       "\n",
       "    .dataframe tbody tr th {\n",
       "        vertical-align: top;\n",
       "    }\n",
       "\n",
       "    .dataframe thead th {\n",
       "        text-align: right;\n",
       "    }\n",
       "</style>\n",
       "<table border=\"1\" class=\"dataframe\">\n",
       "  <thead>\n",
       "    <tr style=\"text-align: right;\">\n",
       "      <th></th>\n",
       "      <th>x0</th>\n",
       "      <th>x1</th>\n",
       "      <th>f(x0)</th>\n",
       "      <th>f(x1)</th>\n",
       "      <th>|x1 - x0|</th>\n",
       "    </tr>\n",
       "  </thead>\n",
       "  <tbody>\n",
       "    <tr>\n",
       "      <th>1</th>\n",
       "      <td>1.111110e+00</td>\n",
       "      <td>-0.418377</td>\n",
       "      <td>0.6927325652</td>\n",
       "      <td>6.4252374099</td>\n",
       "      <td>1.5295</td>\n",
       "    </tr>\n",
       "    <tr>\n",
       "      <th>2</th>\n",
       "      <td>-4.183774e-01</td>\n",
       "      <td>6.84361</td>\n",
       "      <td>6.4252374099</td>\n",
       "      <td>251.3116167028</td>\n",
       "      <td>7.262</td>\n",
       "    </tr>\n",
       "    <tr>\n",
       "      <th>3</th>\n",
       "      <td>6.843615e+00</td>\n",
       "      <td>244.468</td>\n",
       "      <td>251.3116167028</td>\n",
       "      <td>14549795.8292751182</td>\n",
       "      <td>237.62</td>\n",
       "    </tr>\n",
       "    <tr>\n",
       "      <th>4</th>\n",
       "      <td>2.444680e+02</td>\n",
       "      <td>1.45496e+07</td>\n",
       "      <td>14549795.8292751182</td>\n",
       "      <td>3079986238275991371776.0000000000</td>\n",
       "      <td>1.4549e+07</td>\n",
       "    </tr>\n",
       "    <tr>\n",
       "      <th>5</th>\n",
       "      <td>1.454955e+07</td>\n",
       "      <td>3.07999e+21</td>\n",
       "      <td>3079986238275991371776.0000000000</td>\n",
       "      <td>2921772035409358958058108959668776835515442628...</td>\n",
       "      <td>3.08e+21</td>\n",
       "    </tr>\n",
       "    <tr>\n",
       "      <th>6</th>\n",
       "      <td>3.079986e+21</td>\n",
       "      <td>2.92177e+64</td>\n",
       "      <td>2921772035409358958058108959668776835515442628...</td>\n",
       "      <td>2494244276106661059857627442284591463294024860...</td>\n",
       "      <td>2.9218e+64</td>\n",
       "    </tr>\n",
       "    <tr>\n",
       "      <th>7</th>\n",
       "      <td>2.921772e+64</td>\n",
       "      <td>erro</td>\n",
       "      <td>erro</td>\n",
       "      <td>erro</td>\n",
       "      <td>erro</td>\n",
       "    </tr>\n",
       "  </tbody>\n",
       "</table>\n",
       "</div>"
      ],
      "text/plain": [
       "             x0           x1  \\\n",
       "1  1.111110e+00    -0.418377   \n",
       "2 -4.183774e-01      6.84361   \n",
       "3  6.843615e+00      244.468   \n",
       "4  2.444680e+02  1.45496e+07   \n",
       "5  1.454955e+07  3.07999e+21   \n",
       "6  3.079986e+21  2.92177e+64   \n",
       "7  2.921772e+64         erro   \n",
       "\n",
       "                                               f(x0)  \\\n",
       "1                                       0.6927325652   \n",
       "2                                       6.4252374099   \n",
       "3                                     251.3116167028   \n",
       "4                                14549795.8292751182   \n",
       "5                  3079986238275991371776.0000000000   \n",
       "6  2921772035409358958058108959668776835515442628...   \n",
       "7                                               erro   \n",
       "\n",
       "                                               f(x1)   |x1 - x0|  \n",
       "1                                       6.4252374099      1.5295  \n",
       "2                                     251.3116167028       7.262  \n",
       "3                                14549795.8292751182      237.62  \n",
       "4                  3079986238275991371776.0000000000  1.4549e+07  \n",
       "5  2921772035409358958058108959668776835515442628...    3.08e+21  \n",
       "6  2494244276106661059857627442284591463294024860...  2.9218e+64  \n",
       "7                                               erro        erro  "
      ]
     },
     "execution_count": 42,
     "metadata": {},
     "output_type": "execute_result"
    }
   ],
   "source": [
    "fixed_point_iteration(1.11111, (10**-4), (10**-4), fun_prova_5, fun_prova_5_fi)"
   ]
  },
  {
   "cell_type": "code",
   "execution_count": 43,
   "id": "5aaabd9d",
   "metadata": {},
   "outputs": [
    {
     "name": "stdout",
     "output_type": "stream",
     "text": [
      "{'i': [1, 2, 3], 'x0': [1, 1.3333333333333333, 1.2638888888888888], 'x1': [1.3333333333333333, 1.2638888888888888, 1.259933493449977], 'f(x0)': ['-1.0000000000', '0.3703703704', '0.0189552255'], 'f(x1)': ['0.3703703704', '0.0189552255', '0.0000592593'], '|x1 - x0|': ['0.33333', '0.069444', '0.0039554']}\n"
     ]
    },
    {
     "data": {
      "text/html": [
       "<div>\n",
       "<style scoped>\n",
       "    .dataframe tbody tr th:only-of-type {\n",
       "        vertical-align: middle;\n",
       "    }\n",
       "\n",
       "    .dataframe tbody tr th {\n",
       "        vertical-align: top;\n",
       "    }\n",
       "\n",
       "    .dataframe thead th {\n",
       "        text-align: right;\n",
       "    }\n",
       "</style>\n",
       "<table border=\"1\" class=\"dataframe\">\n",
       "  <thead>\n",
       "    <tr style=\"text-align: right;\">\n",
       "      <th></th>\n",
       "      <th>x0</th>\n",
       "      <th>x1</th>\n",
       "      <th>f(x0)</th>\n",
       "      <th>f(x1)</th>\n",
       "      <th>|x1 - x0|</th>\n",
       "    </tr>\n",
       "  </thead>\n",
       "  <tbody>\n",
       "    <tr>\n",
       "      <th>1</th>\n",
       "      <td>1.000000</td>\n",
       "      <td>1.333333</td>\n",
       "      <td>-1.0000000000</td>\n",
       "      <td>0.3703703704</td>\n",
       "      <td>0.33333</td>\n",
       "    </tr>\n",
       "    <tr>\n",
       "      <th>2</th>\n",
       "      <td>1.333333</td>\n",
       "      <td>1.263889</td>\n",
       "      <td>0.3703703704</td>\n",
       "      <td>0.0189552255</td>\n",
       "      <td>0.069444</td>\n",
       "    </tr>\n",
       "    <tr>\n",
       "      <th>3</th>\n",
       "      <td>1.263889</td>\n",
       "      <td>1.259933</td>\n",
       "      <td>0.0189552255</td>\n",
       "      <td>0.0000592593</td>\n",
       "      <td>0.0039554</td>\n",
       "    </tr>\n",
       "  </tbody>\n",
       "</table>\n",
       "</div>"
      ],
      "text/plain": [
       "         x0        x1          f(x0)         f(x1)  |x1 - x0|\n",
       "1  1.000000  1.333333  -1.0000000000  0.3703703704    0.33333\n",
       "2  1.333333  1.263889   0.3703703704  0.0189552255   0.069444\n",
       "3  1.263889  1.259933   0.0189552255  0.0000592593  0.0039554"
      ]
     },
     "execution_count": 43,
     "metadata": {},
     "output_type": "execute_result"
    }
   ],
   "source": [
    "fixed_point_iteration(1, (10**-4), (10**-4), fun_prova_4, fun_prova_4_fi)"
   ]
  },
  {
   "cell_type": "code",
   "execution_count": 44,
   "id": "aaf5eefc",
   "metadata": {},
   "outputs": [
    {
     "name": "stdout",
     "output_type": "stream",
     "text": [
      "{'i': [1, 2, 3], 'x0': [1, 1.1111111111111112, 1.0945051679586564], 'x1': [1.1111111111111112, 1.0945051679586564, 1.0940422879675877], 'f(x0)': ['-1.0000000000', '0.2176666836', '0.0057489384'], 'f(x1)': ['0.2176666836', '0.0057489384', '0.0000043476'], '|x1 - x0|': ['0.11111', '0.016606', '0.00046288']}\n"
     ]
    },
    {
     "data": {
      "text/html": [
       "<div>\n",
       "<style scoped>\n",
       "    .dataframe tbody tr th:only-of-type {\n",
       "        vertical-align: middle;\n",
       "    }\n",
       "\n",
       "    .dataframe tbody tr th {\n",
       "        vertical-align: top;\n",
       "    }\n",
       "\n",
       "    .dataframe thead th {\n",
       "        text-align: right;\n",
       "    }\n",
       "</style>\n",
       "<table border=\"1\" class=\"dataframe\">\n",
       "  <thead>\n",
       "    <tr style=\"text-align: right;\">\n",
       "      <th></th>\n",
       "      <th>x0</th>\n",
       "      <th>x1</th>\n",
       "      <th>f(x0)</th>\n",
       "      <th>f(x1)</th>\n",
       "      <th>|x1 - x0|</th>\n",
       "    </tr>\n",
       "  </thead>\n",
       "  <tbody>\n",
       "    <tr>\n",
       "      <th>1</th>\n",
       "      <td>1.000000</td>\n",
       "      <td>1.111111</td>\n",
       "      <td>-1.0000000000</td>\n",
       "      <td>0.2176666836</td>\n",
       "      <td>0.11111</td>\n",
       "    </tr>\n",
       "    <tr>\n",
       "      <th>2</th>\n",
       "      <td>1.111111</td>\n",
       "      <td>1.094505</td>\n",
       "      <td>0.2176666836</td>\n",
       "      <td>0.0057489384</td>\n",
       "      <td>0.016606</td>\n",
       "    </tr>\n",
       "    <tr>\n",
       "      <th>3</th>\n",
       "      <td>1.094505</td>\n",
       "      <td>1.094042</td>\n",
       "      <td>0.0057489384</td>\n",
       "      <td>0.0000043476</td>\n",
       "      <td>0.00046288</td>\n",
       "    </tr>\n",
       "  </tbody>\n",
       "</table>\n",
       "</div>"
      ],
      "text/plain": [
       "         x0        x1          f(x0)         f(x1)   |x1 - x0|\n",
       "1  1.000000  1.111111  -1.0000000000  0.2176666836     0.11111\n",
       "2  1.111111  1.094505   0.2176666836  0.0057489384    0.016606\n",
       "3  1.094505  1.094042   0.0057489384  0.0000043476  0.00046288"
      ]
     },
     "execution_count": 44,
     "metadata": {},
     "output_type": "execute_result"
    }
   ],
   "source": [
    "fixed_point_iteration(1, (10**-5), (10**-5), fun_prova_1, fun_prova_1_fi)"
   ]
  },
  {
   "cell_type": "code",
   "execution_count": 22,
   "id": "8bad51e4",
   "metadata": {},
   "outputs": [
    {
     "name": "stdout",
     "output_type": "stream",
     "text": [
      "{'i': [1, 2, 3], 'x0': [2.5, 2.7283916698432287, 2.7183005128869113], 'x1': [2.7283916698432287, 2.7183005128869113, 2.7182818285232595], 'f(x0)': ['0.2092731703', '-0.0101286184', '-0.0000186845'], 'f(x1)': ['-0.0101286184', '-0.0000186845', '-0.0000000001'], '|x1 - x0|': ['0.22839', '0.010091', '1.8684e-05']}\n"
     ]
    },
    {
     "data": {
      "text/html": [
       "<div>\n",
       "<style scoped>\n",
       "    .dataframe tbody tr th:only-of-type {\n",
       "        vertical-align: middle;\n",
       "    }\n",
       "\n",
       "    .dataframe tbody tr th {\n",
       "        vertical-align: top;\n",
       "    }\n",
       "\n",
       "    .dataframe thead th {\n",
       "        text-align: right;\n",
       "    }\n",
       "</style>\n",
       "<table border=\"1\" class=\"dataframe\">\n",
       "  <thead>\n",
       "    <tr style=\"text-align: right;\">\n",
       "      <th></th>\n",
       "      <th>x0</th>\n",
       "      <th>x1</th>\n",
       "      <th>f(x0)</th>\n",
       "      <th>f(x1)</th>\n",
       "      <th>|x1 - x0|</th>\n",
       "    </tr>\n",
       "  </thead>\n",
       "  <tbody>\n",
       "    <tr>\n",
       "      <th>1</th>\n",
       "      <td>2.500000</td>\n",
       "      <td>2.728392</td>\n",
       "      <td>0.2092731703</td>\n",
       "      <td>-0.0101286184</td>\n",
       "      <td>0.22839</td>\n",
       "    </tr>\n",
       "    <tr>\n",
       "      <th>2</th>\n",
       "      <td>2.728392</td>\n",
       "      <td>2.718301</td>\n",
       "      <td>-0.0101286184</td>\n",
       "      <td>-0.0000186845</td>\n",
       "      <td>0.010091</td>\n",
       "    </tr>\n",
       "    <tr>\n",
       "      <th>3</th>\n",
       "      <td>2.718301</td>\n",
       "      <td>2.718282</td>\n",
       "      <td>-0.0000186845</td>\n",
       "      <td>-0.0000000001</td>\n",
       "      <td>1.8684e-05</td>\n",
       "    </tr>\n",
       "  </tbody>\n",
       "</table>\n",
       "</div>"
      ],
      "text/plain": [
       "         x0        x1          f(x0)          f(x1)   |x1 - x0|\n",
       "1  2.500000  2.728392   0.2092731703  -0.0101286184     0.22839\n",
       "2  2.728392  2.718301  -0.0101286184  -0.0000186845    0.010091\n",
       "3  2.718301  2.718282  -0.0000186845  -0.0000000001  1.8684e-05"
      ]
     },
     "execution_count": 22,
     "metadata": {},
     "output_type": "execute_result"
    }
   ],
   "source": [
    "fixed_point_iteration(2.5, (10**-5), (10**-5), fun_ex_8b, fun_ex_8b_fi)"
   ]
  },
  {
   "cell_type": "code",
   "execution_count": 23,
   "id": "e4cf5cf6",
   "metadata": {},
   "outputs": [
    {
     "name": "stdout",
     "output_type": "stream",
     "text": [
      "{'i': [1, 2, 3], 'x0': [2.5, 2.7283916698432287, 2.7183005128869113], 'x1': [2.7283916698432287, 2.7183005128869113, 2.7182818285232595], 'f(x0)': ['0.2092731703', '-0.0101286184', '-0.0000186845'], 'f(x1)': ['-0.0101286184', '-0.0000186845', '-0.0000000001'], '|x1 - x0|': ['0.22839', '0.010091', '1.8684e-05']}\n"
     ]
    },
    {
     "data": {
      "text/html": [
       "<div>\n",
       "<style scoped>\n",
       "    .dataframe tbody tr th:only-of-type {\n",
       "        vertical-align: middle;\n",
       "    }\n",
       "\n",
       "    .dataframe tbody tr th {\n",
       "        vertical-align: top;\n",
       "    }\n",
       "\n",
       "    .dataframe thead th {\n",
       "        text-align: right;\n",
       "    }\n",
       "</style>\n",
       "<table border=\"1\" class=\"dataframe\">\n",
       "  <thead>\n",
       "    <tr style=\"text-align: right;\">\n",
       "      <th></th>\n",
       "      <th>x0</th>\n",
       "      <th>x1</th>\n",
       "      <th>f(x0)</th>\n",
       "      <th>f(x1)</th>\n",
       "      <th>|x1 - x0|</th>\n",
       "    </tr>\n",
       "  </thead>\n",
       "  <tbody>\n",
       "    <tr>\n",
       "      <th>1</th>\n",
       "      <td>2.500000</td>\n",
       "      <td>2.728392</td>\n",
       "      <td>0.2092731703</td>\n",
       "      <td>-0.0101286184</td>\n",
       "      <td>0.22839</td>\n",
       "    </tr>\n",
       "    <tr>\n",
       "      <th>2</th>\n",
       "      <td>2.728392</td>\n",
       "      <td>2.718301</td>\n",
       "      <td>-0.0101286184</td>\n",
       "      <td>-0.0000186845</td>\n",
       "      <td>0.010091</td>\n",
       "    </tr>\n",
       "    <tr>\n",
       "      <th>3</th>\n",
       "      <td>2.718301</td>\n",
       "      <td>2.718282</td>\n",
       "      <td>-0.0000186845</td>\n",
       "      <td>-0.0000000001</td>\n",
       "      <td>1.8684e-05</td>\n",
       "    </tr>\n",
       "  </tbody>\n",
       "</table>\n",
       "</div>"
      ],
      "text/plain": [
       "         x0        x1          f(x0)          f(x1)   |x1 - x0|\n",
       "1  2.500000  2.728392   0.2092731703  -0.0101286184     0.22839\n",
       "2  2.728392  2.718301  -0.0101286184  -0.0000186845    0.010091\n",
       "3  2.718301  2.718282  -0.0000186845  -0.0000000001  1.8684e-05"
      ]
     },
     "execution_count": 23,
     "metadata": {},
     "output_type": "execute_result"
    }
   ],
   "source": [
    "fixed_point_iteration(2.5, (10**-5), (10**-5), fun_ex_8c, fun_ex_8c_fi)"
   ]
  },
  {
   "cell_type": "code",
   "execution_count": null,
   "id": "163b9fa6",
   "metadata": {},
   "outputs": [],
   "source": []
  }
 ],
 "metadata": {
  "kernelspec": {
   "display_name": "Python 3",
   "language": "python",
   "name": "python3"
  },
  "language_info": {
   "codemirror_mode": {
    "name": "ipython",
    "version": 3
   },
   "file_extension": ".py",
   "mimetype": "text/x-python",
   "name": "python",
   "nbconvert_exporter": "python",
   "pygments_lexer": "ipython3",
   "version": "3.8.8"
  }
 },
 "nbformat": 4,
 "nbformat_minor": 5
}
